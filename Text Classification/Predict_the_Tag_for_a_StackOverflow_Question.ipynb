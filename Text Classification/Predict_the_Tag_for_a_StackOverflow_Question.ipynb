{
 "cells": [
  {
   "cell_type": "markdown",
   "metadata": {
    "id": "FxgH8d7m2Izh"
   },
   "source": [
    "## Intro\n",
    "\n",
    "The goal is to build a model that predicts the tag for a given question. The dataset consists of questions, such as \"How do I sort a dictionary by value?\", and exactly one tag (i.e. `Python`, `CSharp`, `JavaScript`, or `Java`).  \n",
    "\n",
    "This is an example of multi-class classification."
   ]
  },
  {
   "cell_type": "markdown",
   "metadata": {
    "id": "kVffsmix2BqG"
   },
   "source": [
    "#### Setup"
   ]
  },
  {
   "cell_type": "code",
   "execution_count": null,
   "metadata": {
    "id": "WUiOaJsq2F-c"
   },
   "outputs": [],
   "source": [
    "import tensorflow as tf\n",
    "import tensorflow_datasets as tfds\n",
    "import tensorflow_text as tf_text\n",
    "\n",
    "import numpy as np\n",
    "import matplotlib.pyplot as plt\n",
    "\n",
    "import collections\n",
    "import pathlib\n",
    "import os\n",
    "\n",
    "import IPython.display"
   ]
  },
  {
   "cell_type": "code",
   "execution_count": null,
   "metadata": {
    "id": "SNrOpc9VwL06"
   },
   "outputs": [],
   "source": [
    "def print_vocab(vocab, stop=None):\n",
    "    print(f\"Vocabulary: \", end=\"\")\n",
    "    for idx, token in enumerate(vocab):\n",
    "        print(f\"'{token}' ({idx})\", end=\", \")\n",
    "        if idx == stop:\n",
    "            break\n",
    "\n",
    "def show_model_performance(history):\n",
    "    for name in history:\n",
    "        print(f\"{name}: {history[name][-1]:.2f}\")"
   ]
  },
  {
   "cell_type": "markdown",
   "metadata": {
    "id": "QcS728eH2TyR"
   },
   "source": [
    "The Stack Overflow dataset has already been divided into training and test sets, but it lacks a validation set."
   ]
  },
  {
   "cell_type": "markdown",
   "metadata": {
    "id": "1yJtyZFOboZz"
   },
   "source": [
    "### Load data"
   ]
  },
  {
   "cell_type": "code",
   "execution_count": null,
   "metadata": {
    "colab": {
     "base_uri": "https://localhost:8080/"
    },
    "id": "a16ZrKPO37ua",
    "outputId": "7938dd15-e9de-429a-cde0-a7a6bda960d3"
   },
   "outputs": [
    {
     "data": {
      "text/plain": [
       "['README.md', 'train', 'test']"
      ]
     },
     "execution_count": 89,
     "metadata": {},
     "output_type": "execute_result"
    }
   ],
   "source": [
    "data_url = 'https://storage.googleapis.com/download.tensorflow.org/data/stack_overflow_16k.tar.gz'\n",
    "\n",
    "dataset_dir = tf.keras.utils.get_file(\n",
    "    origin = data_url,\n",
    "    fname = 'stack_overflow_16k.tar.gz',\n",
    "    cache_dir = '/content/',\n",
    "    cache_subdir = '',\n",
    "    extract = True\n",
    ")\n",
    "\n",
    "os.listdir(\"/content/stack_overflow_16k_extracted\")"
   ]
  },
  {
   "cell_type": "code",
   "execution_count": null,
   "metadata": {
    "colab": {
     "base_uri": "https://localhost:8080/"
    },
    "id": "2zkBbf5rSi0s",
    "outputId": "02732c6e-e0c3-4e4d-e561-ba13d93c4255"
   },
   "outputs": [
    {
     "name": "stdout",
     "output_type": "stream",
     "text": [
      "\"on boot i have black screen with text `ubuntu 18.04.2 lts localhost tty1` ubuntu 18.04.2 lts localhost tty1 localhost login: yuliia. password: .etc/update-notd.d/80-esm: 3: etc/update notd.d/80-esm: isb release: not found .etc/update-notd.d/80-esm: 4: etc/update notd.d/ 80-esm: isb release: not found .etc/update-notd.d/ 91-release-upgrade: 4: etc/update notd.d/91- release-upgrade: isb release: not found. welcone to ubuntu 18.04.2 lts cgnlinux 4.15.0 43 generic x86 64)...i tried update blank, but removed it then again installed. after reboot i see black screen. help me please!\"\n",
      "\n"
     ]
    }
   ],
   "source": [
    "dataset_dir = \"/content/stack_overflow_16k_extracted/\"\n",
    "train_dir = os.path.join(dataset_dir, 'train')\n",
    "test_dir = os.path.join(dataset_dir, 'test')\n",
    "\n",
    "train_python_dir = train_dir + \"/python/\"\n",
    "files = os.listdir(train_python_dir)\n",
    "\n",
    "filepath = train_python_dir + files[0]\n",
    "with open(filepath, 'r') as f:\n",
    "    print(f.read())"
   ]
  },
  {
   "cell_type": "markdown",
   "metadata": {
    "id": "NBigCV2jbrRR"
   },
   "source": [
    "### Split Data"
   ]
  },
  {
   "cell_type": "code",
   "execution_count": null,
   "metadata": {
    "colab": {
     "base_uri": "https://localhost:8080/"
    },
    "id": "gsn4BFV0VGyq",
    "outputId": "db5ad55c-8f6c-4d44-884b-3b0f73c71579"
   },
   "outputs": [
    {
     "name": "stdout",
     "output_type": "stream",
     "text": [
      "Found 8000 files belonging to 4 classes.\n",
      "Using 6400 files for training.\n",
      "Using 1600 files for validation.\n",
      "Found 8000 files belonging to 4 classes.\n"
     ]
    }
   ],
   "source": [
    "batch_size = 32\n",
    "seed = 42\n",
    "\n",
    "raw_train_ds, raw_val_ds = tf.keras.utils.text_dataset_from_directory(\n",
    "    train_dir,\n",
    "    batch_size = batch_size,\n",
    "    validation_split = 0.2,\n",
    "    subset = 'both',\n",
    "    seed = seed\n",
    ")\n",
    "\n",
    "raw_test_ds = tf.keras.utils.text_dataset_from_directory(\n",
    "    test_dir,\n",
    "    batch_size = batch_size\n",
    ")"
   ]
  },
  {
   "cell_type": "markdown",
   "metadata": {
    "id": "liRnympbbu3R"
   },
   "source": [
    "### Explore data"
   ]
  },
  {
   "cell_type": "markdown",
   "metadata": {
    "id": "mYkJcDkcaO5F"
   },
   "source": [
    "Let's take a look at a batch to get a feel for the data."
   ]
  },
  {
   "cell_type": "code",
   "execution_count": null,
   "metadata": {
    "colab": {
     "base_uri": "https://localhost:8080/"
    },
    "id": "H1UH3fkHXwZu",
    "outputId": "ba79e205-106f-4e69-f282-538e911042d0"
   },
   "outputs": [
    {
     "name": "stdout",
     "output_type": "stream",
     "text": [
      "Question: \"how can i execute a ...  eval if necessary.\",  Label: 2\n",
      "Question: convert sql binary d ...  to string in blank?,  Label: 0\n",
      "Question: \"how to copy values  ...  original property?\",  Label: 0\n",
      "Question: \"blank: programatica ... od to achieve this?\",  Label: 3\n",
      "Question: \"smtp client , shoul ... ess is real or not.\",  Label: 0\n",
      "Question: \"how to reset a div  ... click', function(){\",  Label: 2\n",
      "Question: \"how to iterate step ... &gt;6):.    //logic\",  Label: 3\n",
      "Question: \"migrating from blan ...  think are obvious.\",  Label: 3\n",
      "Question: \"how do i change the ...        }..        }\",  Label: 2\n",
      "Question: \"why do both blank o ... ength+ \"\"\"\");..}..}\",  Label: 1\n",
      "Question: \"return an index of  ... ow would i do this?\",  Label: 3\n",
      "Question: \"why does my string. ... gs! why is this so?\",  Label: 3\n",
      "Question: \"how to calculate si ... h so plz forgive me\",  Label: 0\n",
      "Question: \"hangman in blank fx ... s me from doing so.\",  Label: 1\n",
      "Question: \"cannot access value ... ontact[key].length)\",  Label: 2\n",
      "Question: \"how to fix the erro ... this...thanks,.gjr.\",  Label: 1\n",
      "Question: \"blank foo = foo.bar ...  does it really do?\",  Label: 2\n",
      "Question: how to correctly mak ... ://imgur.com/vsh4zo8,  Label: 0\n",
      "Question: \"converting string t ...  11 need modifying.\",  Label: 1\n",
      "Question: \"my string is not co ... d(float(spaces[1]))\",  Label: 3\n",
      "Question: \"blank function not  ... ..thanks in advance\",  Label: 2\n",
      "Question: where is the blank.e ... self-referential. :),  Label: 1\n",
      "Question: \"ifs and arraylists  ... rom the array list.\",  Label: 1\n",
      "Question: \"blank error: import ... .import routes.pref\",  Label: 3\n",
      "Question: \"confused with outpu ... ..false..ans2->true\",  Label: 1\n",
      "Question: \"getting file path o ...  my home directory.\",  Label: 3\n",
      "Question: \"blank code slow ski ... ,:]..    return res\",  Label: 3\n",
      "Question: \"export data from ne ... ype { get; set; }.}\",  Label: 0\n",
      "Question: \"is it a good practi ... in .net?..thank you\",  Label: 0\n",
      "Question: \"printing by prototy ... ();..a.printname();\",  Label: 2\n",
      "Question: \"insert table into d ... d.exe\"\", filename);\",  Label: 0\n",
      "Question: \"i'm a blank beginne ... nk of the solution?\",  Label: 3\n"
     ]
    }
   ],
   "source": [
    "for x_batch, y_batch in raw_train_ds.take(1):\n",
    "    for i in range(len(x_batch)):\n",
    "        q = str(np.char.decode(x_batch[i].numpy())).rstrip()\n",
    "        print(f\"Question: {q[:20]} ... {q[-20:]},  Label: {y_batch.numpy()[i]}\")"
   ]
  },
  {
   "cell_type": "code",
   "execution_count": null,
   "metadata": {
    "colab": {
     "base_uri": "https://localhost:8080/"
    },
    "id": "H6HzogdUasI8",
    "outputId": "aac68961-2fa1-45d4-d6fb-a0b4f9f29cd4"
   },
   "outputs": [
    {
     "name": "stdout",
     "output_type": "stream",
     "text": [
      "Label 0 corresponds to csharp\n",
      "Label 1 corresponds to java\n",
      "Label 2 corresponds to javascript\n",
      "Label 3 corresponds to python\n"
     ]
    }
   ],
   "source": [
    "num_classes = len(raw_train_ds.class_names)\n",
    "for i, label in enumerate(raw_train_ds.class_names):\n",
    "  print(\"Label\", i, \"corresponds to\", label)"
   ]
  },
  {
   "cell_type": "markdown",
   "metadata": {
    "id": "Uv3vL1iTbk3P"
   },
   "source": [
    "### Configure the datasets for performance\n",
    "When loading data to make sure that I/O does not become blocking, the following methods come handy:\n",
    "\n",
    "- **cache** keeps data in memory after it's loaded off-disk. This will ensure the dataset does not become a bottleneck while training your model.\n",
    "\n",
    "- **prefetch** overlaps data preprocessing and model execution while training.\n",
    "\n"
   ]
  },
  {
   "cell_type": "code",
   "execution_count": null,
   "metadata": {
    "id": "cqhpIqeObkQD"
   },
   "outputs": [],
   "source": [
    "raw_train_ds = raw_train_ds.cache().prefetch(buffer_size = tf.data.AUTOTUNE)\n",
    "raw_val_ds = raw_val_ds.cache().prefetch(buffer_size = tf.data.AUTOTUNE)\n",
    "raw_test_ds = raw_test_ds.prefetch(buffer_size = tf.data.AUTOTUNE)"
   ]
  },
  {
   "cell_type": "markdown",
   "metadata": {
    "id": "KjO7gUO9cgvU"
   },
   "source": [
    "### Prep Data\n",
    "\n",
    "Typical preprocessing of natural lanaguage inputs are:\n",
    "\n",
    "- **Standardization** simplifies text, by removing clutter or anything the that won't help the model (punctuation, tags, lowercase text, ...).\n",
    "\n",
    "- **Splitting and recombining** each example is split into substrings, such as words, or n-grams.\n",
    "\n",
    "- **Tokenization** splits strings into tokens (i.e. splitting a sentence into words using whitespaces as separators) and recombining into n-grams.\n",
    "\n",
    "- **Vectorization** assign a unique index to tokens, and transform each example into a vector of tokens, either of ints or dense floats, so they can be fed into a neural network.\n",
    "\n",
    "For this we have keras' `TextVectorization` layer, which maps text features to integer sequences.\n",
    "\n",
    "The vocabulary for the layer must be either supplied on construction or learned via `adapt()`. When the layer is adapted, it will analyze the dataset, determine the frequency of individual string values, and create a vocabulary from them (with unlimited or capped size)."
   ]
  },
  {
   "cell_type": "code",
   "execution_count": null,
   "metadata": {
    "id": "n6aA5YHsdLRg"
   },
   "outputs": [],
   "source": [
    "VOCAB_SIZE = 10000\n",
    "\n",
    "# returns a vector denoting which tokens exist at least once in the input.\n",
    "multi_hot_vectorize_layer = tf.keras.layers.TextVectorization(\n",
    "    max_tokens = VOCAB_SIZE, # should be specified only when adapting a vocabulary.\n",
    "    standardize = \"lower_and_strip_punctuation\",\n",
    "    split = \"whitespace\",\n",
    "    # creates an int vector per batch containing\n",
    "    output_mode = \"multi_hot\",\n",
    ")"
   ]
  },
  {
   "cell_type": "markdown",
   "metadata": {
    "id": "UXh_YNHgmpmo"
   },
   "source": [
    "Let's see what it does with a toy example. Here the output of the layer are multi-hot vectors with the same length as the vocabulary (a vector of tokens), with 1s where an input token map in the vocabulary. Unknown input tokens will map to the special token `[UNK]`, always present in every vocabulary."
   ]
  },
  {
   "cell_type": "code",
   "execution_count": null,
   "metadata": {
    "colab": {
     "base_uri": "https://localhost:8080/"
    },
    "id": "KxCZx2DrlWHB",
    "outputId": "27830688-ea61-4599-d01b-148387d5f26d"
   },
   "outputs": [
    {
     "name": "stdout",
     "output_type": "stream",
     "text": [
      "Vocabulary: '[UNK]' (0), 'bar' (1), 'que' (2), 'pum' (3), 'pbaz' (4), 'pam' (5), 'foo' (6), 'boomp' (7), 'baz' (8), 'bada' (9), "
     ]
    },
    {
     "data": {
      "text/plain": [
       "<tf.Tensor: shape=(3, 10), dtype=int64, numpy=\n",
       "array([[1, 1, 0, 0, 0, 0, 1, 0, 0, 0],\n",
       "       [1, 0, 0, 0, 0, 0, 0, 0, 1, 0],\n",
       "       [1, 0, 0, 0, 0, 1, 0, 0, 0, 0]])>"
      ]
     },
     "execution_count": 315,
     "metadata": {},
     "output_type": "execute_result"
    }
   ],
   "source": [
    "# Adapt layer to generate the vocabulary from a given corpus\n",
    "corpus = [\"foo bar.\", \"bar? baz\", \"<p>baz bada boom</p>\", \"\\nque pum bar (que pam)\"]\n",
    "multi_hot_vectorize_layer.adapt(corpus)\n",
    "\n",
    "# Get the vocabulary\n",
    "vocab = multi_hot_vectorize_layer.get_vocabulary()\n",
    "print_vocab(vocab)\n",
    "\n",
    "input_data = [[\"bar foo? bar qux bar\"], [\"qux baz\"], [\"bob pam.\"]]\n",
    "multi_hot_vectorize_layer(input_data)"
   ]
  },
  {
   "cell_type": "code",
   "execution_count": null,
   "metadata": {
    "id": "02iz_cj8dVn-"
   },
   "outputs": [],
   "source": [
    "MAX_SEQUENCE_LENGTH = 250\n",
    "\n",
    "# replaces each token by an integer, thus preserving their order.\n",
    "int_vectorize_layer = tf.keras.layers.TextVectorization(\n",
    "    max_tokens = VOCAB_SIZE,\n",
    "    # Outputs integer indices, one integer index per split string token.\n",
    "    output_mode = 'int',\n",
    "    # the output will have its time dimension padded or truncated to this length\n",
    "    output_sequence_length = MAX_SEQUENCE_LENGTH,\n",
    ")"
   ]
  },
  {
   "cell_type": "code",
   "execution_count": null,
   "metadata": {
    "colab": {
     "base_uri": "https://localhost:8080/"
    },
    "id": "9Mo4zHE_rUTY",
    "outputId": "6f229349-998b-4c6f-9ce0-bde7b7efa54a"
   },
   "outputs": [
    {
     "name": "stdout",
     "output_type": "stream",
     "text": [
      "Vocabulary: '' (0), '[UNK]' (1), 'que' (2), 'bar' (3), 'pum' (4), 'pbaz' (5), 'pam' (6), 'foo' (7), 'boomp' (8), 'baz' (9), 'bada' (10), "
     ]
    },
    {
     "data": {
      "text/plain": [
       "<tf.Tensor: shape=(1, 250), dtype=int64, numpy=\n",
       "array([[ 1,  6, 10,  3,  7,  2,  6,  9,  7,  0,  0,  0,  0,  0,  0,  0,\n",
       "         0,  0,  0,  0,  0,  0,  0,  0,  0,  0,  0,  0,  0,  0,  0,  0,\n",
       "         0,  0,  0,  0,  0,  0,  0,  0,  0,  0,  0,  0,  0,  0,  0,  0,\n",
       "         0,  0,  0,  0,  0,  0,  0,  0,  0,  0,  0,  0,  0,  0,  0,  0,\n",
       "         0,  0,  0,  0,  0,  0,  0,  0,  0,  0,  0,  0,  0,  0,  0,  0,\n",
       "         0,  0,  0,  0,  0,  0,  0,  0,  0,  0,  0,  0,  0,  0,  0,  0,\n",
       "         0,  0,  0,  0,  0,  0,  0,  0,  0,  0,  0,  0,  0,  0,  0,  0,\n",
       "         0,  0,  0,  0,  0,  0,  0,  0,  0,  0,  0,  0,  0,  0,  0,  0,\n",
       "         0,  0,  0,  0,  0,  0,  0,  0,  0,  0,  0,  0,  0,  0,  0,  0,\n",
       "         0,  0,  0,  0,  0,  0,  0,  0,  0,  0,  0,  0,  0,  0,  0,  0,\n",
       "         0,  0,  0,  0,  0,  0,  0,  0,  0,  0,  0,  0,  0,  0,  0,  0,\n",
       "         0,  0,  0,  0,  0,  0,  0,  0,  0,  0,  0,  0,  0,  0,  0,  0,\n",
       "         0,  0,  0,  0,  0,  0,  0,  0,  0,  0,  0,  0,  0,  0,  0,  0,\n",
       "         0,  0,  0,  0,  0,  0,  0,  0,  0,  0,  0,  0,  0,  0,  0,  0,\n",
       "         0,  0,  0,  0,  0,  0,  0,  0,  0,  0,  0,  0,  0,  0,  0,  0,\n",
       "         0,  0,  0,  0,  0,  0,  0,  0,  0,  0]])>"
      ]
     },
     "execution_count": 356,
     "metadata": {},
     "output_type": "execute_result"
    }
   ],
   "source": [
    "int_vectorize_layer.adapt([\"foo bar.\", \"bar? baz\", \"<p>baz bada boom</p>\", \"\\nque pum (que pam)\"])\n",
    "\n",
    "# Get the vocabulary\n",
    "vocab = int_vectorize_layer.get_vocabulary()\n",
    "print_vocab(vocab)\n",
    "\n",
    "input_data = [[\"bob pam. bada, bar foo que pam (baz) foo\"]]\n",
    "int_vectorize_layer(input_data)"
   ]
  },
  {
   "cell_type": "markdown",
   "metadata": {
    "id": "kKfIzNJo_vhE"
   },
   "source": [
    "### Adapt Vectorization Layers"
   ]
  },
  {
   "cell_type": "code",
   "execution_count": null,
   "metadata": {
    "id": "kgpZqQ68fU8o"
   },
   "outputs": [],
   "source": [
    "# Make a text-only dataset (without labels).\n",
    "train_text = raw_train_ds.map(lambda text, labels: text)\n",
    "\n",
    "multi_hot_vectorize_layer.adapt(train_text)\n",
    "int_vectorize_layer.adapt(train_text)"
   ]
  },
  {
   "cell_type": "code",
   "execution_count": null,
   "metadata": {
    "colab": {
     "base_uri": "https://localhost:8080/"
    },
    "id": "kds8yzDUv2lu",
    "outputId": "11055c10-b561-4847-8377-cff9c0664abc"
   },
   "outputs": [
    {
     "name": "stdout",
     "output_type": "stream",
     "text": [
      "Vocabulary: '[UNK]' (0), 'the' (1), 'i' (2), 'to' (3), 'a' (4), 'is' (5), 'in' (6), 'and' (7), 'of' (8), 'if' (9), 'it' (10), "
     ]
    }
   ],
   "source": [
    "vocab = multi_hot_vectorize_layer.get_vocabulary()\n",
    "print_vocab(vocab, 10)"
   ]
  },
  {
   "cell_type": "code",
   "execution_count": null,
   "metadata": {
    "colab": {
     "base_uri": "https://localhost:8080/"
    },
    "id": "Gtwk0_EOxznk",
    "outputId": "a9a354b2-7af9-4abd-f3e4-b1266e1c1a94"
   },
   "outputs": [
    {
     "name": "stdout",
     "output_type": "stream",
     "text": [
      "tf.Tensor(b'\"beginner with parallel arrays in blank i\\'ve been stuck with program for almost a week. what i\\'m trying to do create a program that inputs the names of salespersons and their total sales for the month in two parallel arrays (names and sales) and determine which salesperson has the greatest sales(max)..names = [\"\" \"\"]*3.sales = [0]*3.index = 0.max = 0..k = 0..names[k] = input(\"\"enter salesperson\\'s name and monthly sales: (to exit enter   * or 0)\"\").sales[k] = int(input(\"\"enter monthly sales:\"\"))..while (names[k] !=\"\"*\"\"):.    if sales[k] &gt; max :.       index = k.       max = sales[index]..       k = k + 1...print(\"\"max sales for the month: \"\",max).print(\"\"salesperson: \"\",(names[index]))...it doesn\\'t prompt the user 3 times for the name and salary it instead just asks once and i get this error:..enter salesperson\\'s name and monthly sales: (to exit enter * or 0)jon enter monthly sales:3 .traceback (most recent call last): .file \"\"c:usersuserdownloadssales.py\"\", line 18, in &lt;module&gt; while (names[k] !=\"\"*\"\"): .indexerror: list index out of range\"\\n', shape=(), dtype=string)\n"
     ]
    }
   ],
   "source": [
    "for x_example, y_example in raw_test_ds.take(1):\n",
    "    print(x_example[0])"
   ]
  },
  {
   "cell_type": "markdown",
   "metadata": {
    "id": "8RKVYj188CiT"
   },
   "source": [
    "Let's check a real stack overflow question example. We extract an example from a batch, and we vectorize it using multi-hot encoding.\n",
    "\n",
    "We'll notice the vector is highly concentrated at the beginning."
   ]
  },
  {
   "cell_type": "code",
   "execution_count": null,
   "metadata": {
    "colab": {
     "base_uri": "https://localhost:8080/",
     "height": 485
    },
    "id": "b8UajjU9gIuU",
    "outputId": "22984810-cb72-4820-f7d1-efabc0b2a3f1"
   },
   "outputs": [
    {
     "name": "stdout",
     "output_type": "stream",
     "text": [
      "Example vector (first 30 elements of 10000): [1 1 1 1 1 0 1 1 1 1 1 1 1 1 0 1 0 1 0 1 1 1 0 1 0 1 1 1 1 0]\n",
      "Num of tokens: 121\n"
     ]
    },
    {
     "data": {
      "image/png": "[encoded data removed]",
      "text/plain": [
       "<Figure size 640x480 with 1 Axes>"
      ]
     },
     "metadata": {},
     "output_type": "display_data"
    }
   ],
   "source": [
    "x_example, y_example = raw_test_ds.take(1).get_single_element()\n",
    "\n",
    "example_vector = multi_hot_vectorize_layer(x_example[0])\n",
    "\n",
    "print(f\"Example vector (first 30 elements of {len(example_vector)}): {example_vector.numpy()[:30]}\")\n",
    "print(f\"Num of tokens: {np.sum(example_vector)}\")\n",
    "\n",
    "bins = [np.sum(example_vector[i:i+stride].numpy()) for i in range(0, len(example_vector), 200)]\n",
    "\n",
    "plt.hist(bins, bins=len(bins), color='c')\n",
    "plt.xlabel('Bins')\n",
    "plt.ylabel('Num tokens')\n",
    "plt.show()"
   ]
  },
  {
   "cell_type": "markdown",
   "metadata": {
    "id": "DmIh1ST9-Hak"
   },
   "source": [
    "Let's now get the int encoding."
   ]
  },
  {
   "cell_type": "code",
   "execution_count": null,
   "metadata": {
    "colab": {
     "base_uri": "https://localhost:8080/"
    },
    "id": "dWD9awDcg6aE",
    "outputId": "76f279bf-be9d-435b-e55f-ec4044c720db"
   },
   "outputs": [
    {
     "name": "stdout",
     "output_type": "stream",
     "text": [
      "'int' vectorized question: [  16   63   31    1   63   52  401  158   37    5    1  279    8  195\n",
      "  215  158   21    1    1  363    4  124  694  593   12    2  126  207\n",
      "  249  916    4 1519    1    7    2  212  799    9  229  363  195 1789\n",
      "    4  117   94  356    2  363    7   16    1  138  100    5  114   14\n",
      "    3  166  810  407   94   44  356    2   29 2205   52  158   21    1\n",
      "    1    8   13  236  207    9  122    1    3   78    4   70  432  207\n",
      "  389    4 1530  207   31   16  363   36  481   36  588   83 1354  389\n",
      "   32  137    1  314 1047   48 2559   99   18  589   18    1 3960    1\n",
      "   53   18    1    1   27    1   53 3960    1    1  126    1    1   10\n",
      "   51    1   51   27  126   99    1    1    1    1    1    1    1  173\n",
      "  195  150  146  520    7   16   26   11  178  882   14   58   35  368\n",
      "    2  314  350  389  223    2    1  931    1  196   22   29   99   22\n",
      "   18  589   41  107   22   18    1   41  107   22   63    1   41  107\n",
      "   53   18    1   28  673   27    1  673   99    1    1    1    1    1\n",
      "    1    1    1   22  847    1 1577    1   44    3  141   13   21    1\n",
      "    3   41   32    1  113   20  565    5  944   12  589    8  136    1\n",
      "  589 4058    5   98  550    9  122    1  176   33  227   60   58  436\n",
      "    5   47 4726   45   32    1    3  414  202   13 2506  151]\n"
     ]
    }
   ],
   "source": [
    "example_vector = int_vectorize_layer(x_example[0])\n",
    "print(f\"'int' vectorized question: {example_vector}\")"
   ]
  },
  {
   "cell_type": "markdown",
   "metadata": {
    "id": "tQMjCD7qCap7"
   },
   "source": [
    "Let's check the ID-token pai of the example. Notice that `[UNK]` is often used as a placeholder to obfuscate the target label used in a question."
   ]
  },
  {
   "cell_type": "code",
   "execution_count": null,
   "metadata": {
    "colab": {
     "base_uri": "https://localhost:8080/"
    },
    "id": "AYBykILqhgFG",
    "outputId": "7e8b7687-120e-41bf-f82d-169f69fd5383"
   },
   "outputs": [
    {
     "name": "stdout",
     "output_type": "stream",
     "text": [
      "(16) blank, (63) object, (31) from, (1) [UNK], (63) object, (52) im, (401) currently, (158) working, (37) on, (5) a, (1) [UNK], (279) project, (8) and, (195) ive, (215) been, (158) working, (21) with, (1) [UNK], (1) [UNK], (363) classes, (4) to, (124) create, (694) custom, (593) types, (12) for, (2) the, (126) output, (207) objects, (249) however, (916) due, (4) to, (1519) various, (1) [UNK], (7) in, (2) the, (212) current, (799) implementation, (9) of, (229) these, (363) classes, (195) ive, (1789) decided, (4) to, (117) try, (94) out, (356) creating, (2) the, (363) classes, (7) in, (16) blank, (1) [UNK], (138) run, (100) into, (5) a, (114) problem, (14) that, (3) i, (166) cant, (810) quite, (407) figure, (94) out, (44) when, (356) creating, (2) the, (29) class, (2205) constructors, (52) im, (158) working, (21) with, (1) [UNK], (1) [UNK], (8) and, (13) this, (236) returns, (207) objects, (9) of, (122) type, (1) [UNK], (3) i, (78) need, (4) to, (70) use, (432) those, (207) objects, (389) properties, (4) to, (1530) instantiate, (207) objects, (31) from, (16) blank, (363) classes, (36) as, (481) well, (36) as, (588) calculate, (83) some, (1354) additional, (389) properties, (32) an, (137) example, (1) [UNK], (314) constructor, (1047) looked, (48) like, (2559) thisclass, (99) user, (18) string, (589) username, (18) string, (1) [UNK], (3960) hashtable, (1) [UNK], (53) static, (18) string, (1) [UNK], (1) [UNK], (27) return, (1) [UNK], (53) static, (3960) hashtable, (1) [UNK], (1) [UNK], (126) output, (1) [UNK], (1) [UNK], (10) if, (51) value, (1) [UNK], (51) value, (27) return, (126) output, (99) user, (1) [UNK], (1) [UNK], (1) [UNK], (1) [UNK], (1) [UNK], (1) [UNK], (1) [UNK], (173) now, (195) ive, (150) tried, (146) something, (520) similar, (7) in, (16) blank, (26) but, (11) it, (178) doesnt, (882) appear, (14) that, (58) you, (35) can, (368) reference, (2) the, (314) constructor, (350) parameter, (389) properties, (223) inside, (2) the, (1) [UNK], (931) systemusing, (1) [UNK], (196) test, (22) public, (29) class, (99) user, (22) public, (18) string, (589) username, (41) get, (107) set, (22) public, (18) string, (1) [UNK], (41) get, (107) set, (22) public, (63) object, (1) [UNK], (41) get, (107) set, (53) static, (18) string, (1) [UNK], (28) int, (673) status, (27) return, (1) [UNK], (673) status, (99) user, (1) [UNK], (1) [UNK], (1) [UNK], (1) [UNK], (1) [UNK], (1) [UNK], (1) [UNK], (1) [UNK], (22) public, (847) enum, (1) [UNK], (1577) active, (1) [UNK], (44) when, (3) i, (141) import, (13) this, (21) with, (1) [UNK], (3) i, (41) get, (32) an, (1) [UNK], (113) does, (20) not, (565) contain, (5) a, (944) definition, (12) for, (589) username, (8) and, (136) no, (1) [UNK], (589) username, (4058) accepting, (5) a, (98) first, (550) argument, (9) of, (122) type, (1) [UNK], (176) could, (33) be, (227) found, (60) are, (58) you, (436) missing, (5) a, (47) using, (4726) directive, (45) or, (32) an, (1) [UNK], (3) i, (414) going, (202) about, (13) this, (2506) entirely, (151) wrong, "
     ]
    }
   ],
   "source": [
    "vocab = int_vectorize_layer.get_vocabulary()\n",
    "for idx in example_vector.numpy():\n",
    "    if idx != 0:\n",
    "        print(f\"({idx}) {vocab[idx]}, \", end='')\n"
   ]
  },
  {
   "cell_type": "markdown",
   "metadata": {
    "id": "nhAnmrE1hzhi"
   },
   "source": [
    "### Bag-of-Words Model (BoW)\n",
    "\n",
    "The first model is a bag-of-words model (BoW). Since the multi-hot vectorized layer removes all word ordering, disregarding syntax or grammar, it is fast and may be sufficient for simple tasks as document classification, where the frequency of words may have more impact in predicting the right label, rather than the specific order of its words, which would be critical to more semantic driven tasks.\n",
    "\n",
    "\n"
   ]
  },
  {
   "cell_type": "code",
   "execution_count": null,
   "metadata": {
    "colab": {
     "base_uri": "https://localhost:8080/"
    },
    "id": "-r81PBXThyPD",
    "outputId": "1522feac-7d9f-49be-93a9-a4e0c503ffbe"
   },
   "outputs": [
    {
     "name": "stdout",
     "output_type": "stream",
     "text": [
      "accuracy: 0.95\n",
      "loss: 0.29\n",
      "val_accuracy: 0.84\n",
      "val_loss: 0.49\n"
     ]
    }
   ],
   "source": [
    "EPOCHS = 10\n",
    "\n",
    "multi_hot_model = tf.keras.Sequential([\n",
    "    multi_hot_vectorize_layer,\n",
    "    tf.keras.layers.Dense(4)\n",
    "])\n",
    "\n",
    "multi_hot_model.compile(\n",
    "    loss = tf.keras.losses.SparseCategoricalCrossentropy(from_logits=True),\n",
    "    optimizer = tf.keras.optimizers.Adam(),\n",
    "    metrics = ['accuracy']\n",
    ")\n",
    "\n",
    "multi_hot_history = multi_hot_model.fit(\n",
    "    raw_train_ds,\n",
    "    validation_data = raw_val_ds,\n",
    "    epochs = EPOCHS\n",
    ")\n",
    "\n",
    "IPython.display.clear_output()\n",
    "\n",
    "show_model_performance(multi_hot_history.history)"
   ]
  },
  {
   "cell_type": "markdown",
   "metadata": {
    "id": "rd_a3LNfH4dy"
   },
   "source": [
    "### ConvNet Model\n",
    "\n",
    "The model will take batched Stack Overflow questions as input and preprocess each batch into an integer matrix of size (batch, input_length). These integers of course represent the vocabulary's token ID.\n",
    "\n",
    "The Embedding layer will ingest the preprocessed int vector, where the largest token index should be no larger than the vocabulary size, and turn the non-negative integers into a dense vector of floats.\n",
    "\n",
    "An embedding layer is essentially a lookup table (or matrix) where the rows correspond to the vocabulary size and the columns represent the dimensionality of the dense vector we want for each word.\n",
    "\n",
    "The token ids generated by the int vectorizer don't carry inherent meaning about the relationship between words. The embedding vectors, though, will encode words as dense vectors of floats. The neural network will hopefully capture the relationships or patterns between words found in the training data, and learn their shared similarity, for exampe of words like \"cat\" and \"dog\", both animals, and encode them 'close' together (in high-dimensional space), unlike, say, \"moon\".\n",
    "\n",
    "In our case, the classification task will guide what \"meaning\" gets encoded. A sentiment model might encode \"happy\" and \"joy\" similarly, while a translation model might align \"dog\" with \"perro\" (Spanish)."
   ]
  },
  {
   "cell_type": "code",
   "execution_count": null,
   "metadata": {
    "colab": {
     "base_uri": "https://localhost:8080/"
    },
    "id": "13kigU0Mjcdw",
    "outputId": "1b22b0cd-dd35-4fbb-9297-e9f3d2157fc7"
   },
   "outputs": [
    {
     "name": "stdout",
     "output_type": "stream",
     "text": [
      "accuracy: 0.95\n",
      "loss: 0.29\n",
      "val_accuracy: 0.84\n",
      "val_loss: 0.49\n"
     ]
    }
   ],
   "source": [
    "def make_model(vocab_size, num_labels, vectorizer=None):\n",
    "    my_layers =[]\n",
    "    if vectorizer is not None:\n",
    "        # shape: (batch_size, input_length).\n",
    "        my_layers = [vectorizer]\n",
    "\n",
    "        my_layers.extend([\n",
    "            # shape: (batch_size, input_length).\n",
    "            tf.keras.layers.Embedding(vocab_size, 64, mask_zero=True),\n",
    "            # shape: (batch_size, input_length, output_dim).\n",
    "            tf.keras.layers.Dropout(0.5),\n",
    "            tf.keras.layers.Conv1D(64, 5, padding=\"valid\", activation=\"relu\", strides=2),\n",
    "            tf.keras.layers.GlobalMaxPooling1D(),\n",
    "            tf.keras.layers.Dense(num_labels)\n",
    "        ])\n",
    "\n",
    "    return tf.keras.Sequential(my_layers)\n",
    "\n",
    "\n",
    "num_labels = 4\n",
    "int_model = make_model(VOCAB_SIZE, num_labels, int_vectorize_layer)\n",
    "\n",
    "int_model.compile(\n",
    "    loss = tf.keras.losses.SparseCategoricalCrossentropy(from_logits=True),\n",
    "    optimizer = tf.keras.optimizers.Adam(),\n",
    "    metrics = ['accuracy']\n",
    ")\n",
    "\n",
    "int_history = int_model.fit(\n",
    "    raw_train_ds,\n",
    "    validation_data = raw_val_ds,\n",
    "    epochs = EPOCHS\n",
    ")\n",
    "\n",
    "IPython.display.clear_output()\n",
    "\n",
    "show_model_performance(int_history.history)"
   ]
  },
  {
   "cell_type": "markdown",
   "metadata": {
    "id": "QEuFIa2IlT2a"
   },
   "source": [
    "### Evaluate Model"
   ]
  },
  {
   "cell_type": "code",
   "execution_count": null,
   "metadata": {
    "colab": {
     "base_uri": "https://localhost:8080/"
    },
    "id": "t3TAvqjXoTm8",
    "outputId": "ef5a5d24-5127-4b87-accd-0ca6f4505d79"
   },
   "outputs": [
    {
     "name": "stdout",
     "output_type": "stream",
     "text": [
      "\u001b[1m250/250\u001b[0m \u001b[32m━━━━━━━━━━━━━━━━━━━━\u001b[0m\u001b[37m\u001b[0m \u001b[1m1s\u001b[0m 4ms/step - accuracy: 0.7997 - loss: 0.5394\n",
      "\u001b[1m250/250\u001b[0m \u001b[32m━━━━━━━━━━━━━━━━━━━━\u001b[0m\u001b[37m\u001b[0m \u001b[1m1s\u001b[0m 5ms/step - accuracy: 0.7897 - loss: 0.6726\n"
     ]
    }
   ],
   "source": [
    "test_performance = {}\n",
    "test_performance['MultiHot_model'] = multi_hot_model.evaluate(raw_test_ds, return_dict=True)\n",
    "test_performance['Int_model'] = int_model.evaluate(raw_test_ds, return_dict=True)"
   ]
  },
  {
   "cell_type": "code",
   "execution_count": null,
   "metadata": {
    "colab": {
     "base_uri": "https://localhost:8080/",
     "height": 467
    },
    "id": "L0J99x9akSxk",
    "outputId": "9aba2595-6d04-4e7e-c373-e3c806bab066"
   },
   "outputs": [
    {
     "data": {
      "text/plain": [
       "Text(0, 0.5, 'CE/token')"
      ]
     },
     "execution_count": 373,
     "metadata": {},
     "output_type": "execute_result"
    },
    {
     "data": {
      "image/png": "[encoded data removed]",
      "text/plain": [
       "<Figure size 640x480 with 1 Axes>"
      ]
     },
     "metadata": {},
     "output_type": "display_data"
    }
   ],
   "source": [
    "plt.plot(multi_hot_history.epoch, multi_hot_history.history['loss'], label='multi-hot-loss', color='b')\n",
    "plt.plot(multi_hot_history.epoch, multi_hot_history.history['val_loss'], '--', color='b', label='multi-hot-val_loss')\n",
    "plt.plot(int_history.epoch, [test_performance['MultiHot_model']['loss']]*EPOCHS, color='c', label='multi-hot-test_loss')\n",
    "\n",
    "loss = plt.plot(int_history.epoch, int_history.history['loss'], label='int-loss', color='m')\n",
    "plt.plot(int_history.epoch, int_history.history['val_loss'], '--', color='m', label='int-val_loss')\n",
    "plt.plot(int_history.epoch, [test_performance['Int_model']['loss']]*EPOCHS, '--', color='c', label='int-test_loss')\n",
    "\n",
    "plt.legend()\n",
    "plt.xlabel('Epoch')\n",
    "plt.ylabel('CE/token')"
   ]
  }
 ],
 "metadata": {
  "colab": {
   "collapsed_sections": [
    "kVffsmix2BqG"
   ],
   "machine_shape": "hm",
   "provenance": [],
   "toc_visible": true
  },
  "kernelspec": {
   "display_name": "Python 3",
   "name": "python3"
  },
  "language_info": {
   "name": "python"
  }
 },
 "nbformat": 4,
 "nbformat_minor": 0
}
